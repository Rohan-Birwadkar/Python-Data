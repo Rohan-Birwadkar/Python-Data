{
 "cells": [
  {
   "cell_type": "code",
   "execution_count": 2,
   "metadata": {},
   "outputs": [],
   "source": [
    "# SQL Browser and files mbox, mbox-short"
   ]
  },
  {
   "cell_type": "code",
   "execution_count": 3,
   "metadata": {},
   "outputs": [
    {
     "name": "stdout",
     "output_type": "stream",
     "text": [
      "enter mbox=shotr.txtmbox.txt\n",
      "zqian@umich.edu 195\n",
      "mmmay@indiana.edu 161\n",
      "cwen@iupui.edu 158\n",
      "chmaurer@iupui.edu 111\n",
      "aaronz@vt.edu 110\n",
      "ian@caret.cam.ac.uk 96\n",
      "jimeng@umich.edu 93\n",
      "rjlowe@iupui.edu 90\n",
      "dlhaines@umich.edu 84\n",
      "david.horwitz@uct.ac.za 67\n"
     ]
    }
   ],
   "source": [
    "import sqlite3\n",
    "\n",
    "\n",
    "conn= sqlite3.connect(\"emaildb.sqlite\")\n",
    "#this will be the name of the file\n",
    "\n",
    "cur = conn.cursor()\n",
    "#the connection obj used throughout the prog\n",
    "\n",
    "\n",
    "cur.execute(\"DROP TABLE IF EXISTS Counts\")\n",
    "\n",
    "cur.execute(''' CREATE TABLE Counts (email TEXT, count INTEGER)  ''')\n",
    "\n",
    "\n",
    "fname = input(\"enter mbox=shotr.txt\")\n",
    "if len(fname)<1:\n",
    "    fname=\"mbox-short.txt\"\n",
    "fh = open(fname)\n",
    " \n",
    "for line in fh:\n",
    "    if not line.startswith(\"From: \"):\n",
    "        continue\n",
    "    pieces =line.split()\n",
    "    email= pieces[1]\n",
    "    cur.execute(\"SELECT count FROM Counts WHERE email = ?\",(email,))\n",
    "    row = cur.fetchone()\n",
    "    if row is None:\n",
    "        cur.execute(\"INSERT INTO Counts (email, count) VALUES (?, 1)\", (email,))\n",
    "    else:\n",
    "        cur.execute(\"UPDATE Counts set count= count + 1 WHERE email =?\",(email,))\n",
    "conn.commit()\n",
    "\n",
    "    \n",
    "sqlstr = \"SELECT email, count FROM Counts ORDER BY count DESC LIMIT 10\"\n",
    "for row in cur.execute(sqlstr):\n",
    "    print(str(row[0]),row[1])\n",
    "cur.close()"
   ]
  }
 ],
 "metadata": {
  "kernelspec": {
   "display_name": "Python 3",
   "language": "python",
   "name": "python3"
  },
  "language_info": {
   "codemirror_mode": {
    "name": "ipython",
    "version": 3
   },
   "file_extension": ".py",
   "mimetype": "text/x-python",
   "name": "python",
   "nbconvert_exporter": "python",
   "pygments_lexer": "ipython3",
   "version": "3.7.6"
  }
 },
 "nbformat": 4,
 "nbformat_minor": 4
}
